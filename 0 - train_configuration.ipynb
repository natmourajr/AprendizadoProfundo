{
 "cells": [
  {
   "cell_type": "markdown",
   "id": "540cb116",
   "metadata": {},
   "source": [
    "# Train Configuration Files"
   ]
  },
  {
   "cell_type": "markdown",
   "id": "0bbd6ffe",
   "metadata": {},
   "source": [
    "Cada treinamento vai ter um identificador hash que vai permear todo o processo."
   ]
  },
  {
   "cell_type": "code",
   "execution_count": 1,
   "id": "665ff2e5",
   "metadata": {},
   "outputs": [],
   "source": [
    "import os\n",
    "import pandas as pd\n",
    "import pickle\n",
    "import numpy as np\n",
    "\n",
    "from AuxiliarFunctions import *"
   ]
  },
  {
   "cell_type": "code",
   "execution_count": 2,
   "id": "1d06a75f",
   "metadata": {},
   "outputs": [],
   "source": [
    "# Configurações gerais\n",
    "hash_id = hash('treinamento_0')\n",
    "label = 'Toy Data Classification with 10 StratifiedKFolds' # etiqueta do treinamento\n",
    "raw_files_path = 'data/raw' # caminho para os arquivos raw (sem processamento)\n",
    "processed_file_folder = 'data' # caminho para o arquivo único com todos os dados crus - processed_data.csv\n",
    "processed_file_path =  os.path.join(processed_file_folder,'%s_processed_data.csv'%(hash_id)) # caminho para o arquivo único com todos os dados crus - processed_data.csv\n",
    "\n",
    "# Configurações da Validação Cruzada\n",
    "cv_alg = 'StratifiedKFolds' # StratifiedKFolds or LeaveOneOut\n",
    "cv_folds = 10\n",
    "cv_path = os.path.join(processed_file_folder,'indexes')\n",
    "\n",
    "# Configurações de Pré-Processamento\n",
    "preproc_alg = 'Não implementado para a aplicação!!!'\n",
    "\n",
    "# Configurações de Pipeline\n",
    "pipeline_path = os.path.join(processed_file_folder,'pipelines')\n",
    "scaler_alg = 'StandardScaler'\n",
    "\n",
    "# Arquivos de Treinamento\n",
    "train_data_path = os.path.join(processed_file_folder,'%s_train_data.csv'%(hash_id)) # caminho para o arquivo único com todos os dados para treinamento - train_data_file.csv\n",
    "train_trgt_path = os.path.join(processed_file_folder,'%s_trgt_data.csv'%(hash_id)) # caminho para o arquivo único com todos os alvos para treinamento - train_trgt_file.csv\n",
    "model_path = os.path.join(processed_file_folder,'models') # caminho para onde os modelos serão enviados\n"
   ]
  },
  {
   "cell_type": "code",
   "execution_count": 3,
   "id": "7a496462",
   "metadata": {},
   "outputs": [],
   "source": [
    "dict_buffer = { \n",
    "    'hash_id':[hash_id],\n",
    "    'label':[label],\n",
    "    'raw_files_path':[raw_files_path],\n",
    "    'processed_file_folder':[processed_file_folder],\n",
    "    'processed_file_path':[processed_file_path],\n",
    "    'cv_alg':[cv_alg],\n",
    "    'cv_folds':cv_folds,\n",
    "    'cv_path':cv_path,\n",
    "    'preproc_alg':[preproc_alg],\n",
    "    'pipeline_path':[pipeline_path],\n",
    "    'scaler_alg':[scaler_alg],\n",
    "    'train_data_path':[train_data_path],\n",
    "    'train_trgt_path':[train_trgt_path],\n",
    "    'model_path':[model_path],\n",
    "}\n",
    "df_buffer = pd.DataFrame(data=dict_buffer)"
   ]
  },
  {
   "cell_type": "code",
   "execution_count": 4,
   "id": "878555f2",
   "metadata": {},
   "outputs": [
    {
     "data": {
      "text/html": [
       "<div>\n",
       "<style scoped>\n",
       "    .dataframe tbody tr th:only-of-type {\n",
       "        vertical-align: middle;\n",
       "    }\n",
       "\n",
       "    .dataframe tbody tr th {\n",
       "        vertical-align: top;\n",
       "    }\n",
       "\n",
       "    .dataframe thead th {\n",
       "        text-align: right;\n",
       "    }\n",
       "</style>\n",
       "<table border=\"1\" class=\"dataframe\">\n",
       "  <thead>\n",
       "    <tr style=\"text-align: right;\">\n",
       "      <th></th>\n",
       "      <th>hash_id</th>\n",
       "      <th>label</th>\n",
       "      <th>raw_files_path</th>\n",
       "      <th>processed_file_folder</th>\n",
       "      <th>processed_file_path</th>\n",
       "      <th>cv_alg</th>\n",
       "      <th>cv_folds</th>\n",
       "      <th>cv_path</th>\n",
       "      <th>preproc_alg</th>\n",
       "      <th>pipeline_path</th>\n",
       "      <th>scaler_alg</th>\n",
       "      <th>train_data_path</th>\n",
       "      <th>train_trgt_path</th>\n",
       "      <th>model_path</th>\n",
       "    </tr>\n",
       "  </thead>\n",
       "  <tbody>\n",
       "    <tr>\n",
       "      <th>0</th>\n",
       "      <td>6111500007297378247</td>\n",
       "      <td>Toy Data Classification with 10 StratifiedKFolds</td>\n",
       "      <td>data/raw</td>\n",
       "      <td>data</td>\n",
       "      <td>data/6111500007297378247_processed_data.csv</td>\n",
       "      <td>StratifiedKFolds</td>\n",
       "      <td>10</td>\n",
       "      <td>data/indexes</td>\n",
       "      <td>Não implementado para a aplicação!!!</td>\n",
       "      <td>data/pipelines</td>\n",
       "      <td>StandardScaler</td>\n",
       "      <td>data/6111500007297378247_train_data.csv</td>\n",
       "      <td>data/6111500007297378247_trgt_data.csv</td>\n",
       "      <td>data/models</td>\n",
       "    </tr>\n",
       "  </tbody>\n",
       "</table>\n",
       "</div>"
      ],
      "text/plain": [
       "               hash_id                                             label  \\\n",
       "0  6111500007297378247  Toy Data Classification with 10 StratifiedKFolds   \n",
       "\n",
       "  raw_files_path processed_file_folder  \\\n",
       "0       data/raw                  data   \n",
       "\n",
       "                           processed_file_path            cv_alg  cv_folds  \\\n",
       "0  data/6111500007297378247_processed_data.csv  StratifiedKFolds        10   \n",
       "\n",
       "        cv_path                           preproc_alg   pipeline_path  \\\n",
       "0  data/indexes  Não implementado para a aplicação!!!  data/pipelines   \n",
       "\n",
       "       scaler_alg                          train_data_path  \\\n",
       "0  StandardScaler  data/6111500007297378247_train_data.csv   \n",
       "\n",
       "                          train_trgt_path   model_path  \n",
       "0  data/6111500007297378247_trgt_data.csv  data/models  "
      ]
     },
     "execution_count": 4,
     "metadata": {},
     "output_type": "execute_result"
    }
   ],
   "source": [
    "df_buffer.head()"
   ]
  },
  {
   "cell_type": "code",
   "execution_count": 5,
   "id": "30238186",
   "metadata": {},
   "outputs": [],
   "source": [
    "config_file_path = 'data/config.csv'\n",
    "if os.path.exists(config_file_path) == False:\n",
    "    # arquivo não existe\n",
    "    df_buffer.to_csv(config_file_path, index=False)\n",
    "else:\n",
    "    # arquivo existe\n",
    "    df_old = pd.read_csv(config_file_path)\n",
    "    if (hash_id in list(df_old['hash_id'])):\n",
    "        # o hash_id já está salvo\n",
    "        print('o hash_id já está salvo')\n",
    "    else:\n",
    "        df_old = pd.concat([df_old,df_buffer],axis=0, ignore_index=True)\n",
    "        df_old.to_csv(config_file_path, index=False)"
   ]
  },
  {
   "cell_type": "code",
   "execution_count": 6,
   "id": "1d4e6212",
   "metadata": {},
   "outputs": [],
   "source": [
    "train_id = 0\n",
    "df_config = pd.read_csv(config_file_path)"
   ]
  },
  {
   "cell_type": "code",
   "execution_count": 7,
   "id": "03da33b5",
   "metadata": {},
   "outputs": [
    {
     "data": {
      "text/html": [
       "<div>\n",
       "<style scoped>\n",
       "    .dataframe tbody tr th:only-of-type {\n",
       "        vertical-align: middle;\n",
       "    }\n",
       "\n",
       "    .dataframe tbody tr th {\n",
       "        vertical-align: top;\n",
       "    }\n",
       "\n",
       "    .dataframe thead th {\n",
       "        text-align: right;\n",
       "    }\n",
       "</style>\n",
       "<table border=\"1\" class=\"dataframe\">\n",
       "  <thead>\n",
       "    <tr style=\"text-align: right;\">\n",
       "      <th></th>\n",
       "      <th>hash_id</th>\n",
       "      <th>label</th>\n",
       "      <th>raw_files_path</th>\n",
       "      <th>processed_file_folder</th>\n",
       "      <th>processed_file_path</th>\n",
       "      <th>cv_alg</th>\n",
       "      <th>cv_folds</th>\n",
       "      <th>cv_path</th>\n",
       "      <th>preproc_alg</th>\n",
       "      <th>pipeline_path</th>\n",
       "      <th>scaler_alg</th>\n",
       "      <th>train_data_path</th>\n",
       "      <th>train_trgt_path</th>\n",
       "      <th>model_path</th>\n",
       "    </tr>\n",
       "  </thead>\n",
       "  <tbody>\n",
       "    <tr>\n",
       "      <th>0</th>\n",
       "      <td>6111500007297378247</td>\n",
       "      <td>Toy Data Classification with 10 StratifiedKFolds</td>\n",
       "      <td>data/raw</td>\n",
       "      <td>data</td>\n",
       "      <td>data/6111500007297378247_processed_data.csv</td>\n",
       "      <td>StratifiedKFolds</td>\n",
       "      <td>10</td>\n",
       "      <td>data/indexes</td>\n",
       "      <td>Não implementado para a aplicação!!!</td>\n",
       "      <td>data/pipelines</td>\n",
       "      <td>StandardScaler</td>\n",
       "      <td>data/6111500007297378247_train_data.csv</td>\n",
       "      <td>data/6111500007297378247_trgt_data.csv</td>\n",
       "      <td>data/models</td>\n",
       "    </tr>\n",
       "  </tbody>\n",
       "</table>\n",
       "</div>"
      ],
      "text/plain": [
       "               hash_id                                             label  \\\n",
       "0  6111500007297378247  Toy Data Classification with 10 StratifiedKFolds   \n",
       "\n",
       "  raw_files_path processed_file_folder  \\\n",
       "0       data/raw                  data   \n",
       "\n",
       "                           processed_file_path            cv_alg  cv_folds  \\\n",
       "0  data/6111500007297378247_processed_data.csv  StratifiedKFolds        10   \n",
       "\n",
       "        cv_path                           preproc_alg   pipeline_path  \\\n",
       "0  data/indexes  Não implementado para a aplicação!!!  data/pipelines   \n",
       "\n",
       "       scaler_alg                          train_data_path  \\\n",
       "0  StandardScaler  data/6111500007297378247_train_data.csv   \n",
       "\n",
       "                          train_trgt_path   model_path  \n",
       "0  data/6111500007297378247_trgt_data.csv  data/models  "
      ]
     },
     "execution_count": 7,
     "metadata": {},
     "output_type": "execute_result"
    }
   ],
   "source": [
    "df_config.head(10)"
   ]
  },
  {
   "cell_type": "code",
   "execution_count": null,
   "id": "58e32d7d",
   "metadata": {},
   "outputs": [],
   "source": []
  }
 ],
 "metadata": {
  "kernelspec": {
   "display_name": "Python 3 (ipykernel)",
   "language": "python",
   "name": "python3"
  },
  "language_info": {
   "codemirror_mode": {
    "name": "ipython",
    "version": 3
   },
   "file_extension": ".py",
   "mimetype": "text/x-python",
   "name": "python",
   "nbconvert_exporter": "python",
   "pygments_lexer": "ipython3",
   "version": "3.8.10"
  }
 },
 "nbformat": 4,
 "nbformat_minor": 5
}
