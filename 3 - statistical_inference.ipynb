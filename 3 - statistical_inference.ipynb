{
 "cells": [
  {
   "cell_type": "markdown",
   "id": "da4d6adf",
   "metadata": {},
   "source": [
    "# Load Data"
   ]
  },
  {
   "cell_type": "code",
   "execution_count": 1,
   "id": "dd4b5d5c",
   "metadata": {},
   "outputs": [],
   "source": [
    "import pandas as pd\n",
    "import numpy as np\n",
    "import math\n",
    "from sklearn.pipeline import Pipeline\n",
    "from sklearn.model_selection import LeaveOneOut, StratifiedKFold\n",
    "import pickle\n",
    "import os\n",
    "import joblib\n",
    "from sklearn.impute import SimpleImputer\n",
    "from sklearn.preprocessing import StandardScaler\n",
    "from sklearn.compose import ColumnTransformer"
   ]
  },
  {
   "cell_type": "markdown",
   "id": "8132fe2a",
   "metadata": {},
   "source": [
    "## Load raw data"
   ]
  },
  {
   "cell_type": "code",
   "execution_count": 2,
   "id": "2262362a",
   "metadata": {},
   "outputs": [],
   "source": [
    "config_file_path = 'data/config.csv'\n",
    "df_config = pd.read_csv(config_file_path)\n",
    "train_id = 0"
   ]
  },
  {
   "cell_type": "code",
   "execution_count": 3,
   "id": "103a1faa",
   "metadata": {},
   "outputs": [],
   "source": [
    "df_data = pd.read_csv(df_config['train_data_path'][train_id])\n",
    "df_trgt = pd.read_csv(df_config['train_trgt_path'][train_id])"
   ]
  },
  {
   "cell_type": "markdown",
   "id": "5291f81b",
   "metadata": {},
   "source": [
    "# Create a pipeline - data flow processing chain"
   ]
  },
  {
   "cell_type": "code",
   "execution_count": 4,
   "id": "74c4e528",
   "metadata": {},
   "outputs": [],
   "source": [
    "n_folds = df_config['cv_folds'][train_id]\n",
    "cv_path = df_config['cv_path'][train_id]\n",
    "pipe_path = df_config['pipeline_path'][train_id]\n",
    "\n",
    "for ifold in range(n_folds):\n",
    "    cv_name = '%s_%s_CV_fold_%i_of_%i_cv_indexes.pkl'%(df_config['hash_id'][train_id],\n",
    "                                                         df_config['cv_alg'][train_id],\n",
    "                                                         ifold, n_folds)\n",
    "    with open(os.path.join(cv_path,cv_name),'rb') as file_handler:\n",
    "        [trn_idx,val_idx] = pickle.load(file_handler)\n",
    "            \n",
    "    if df_config['scaler_alg'][train_id] == 'StandardScaler':\n",
    "        pipe = Pipeline(steps=[(\"scaler\", StandardScaler())])\n",
    "\n",
    "    pipe.fit(df_data.loc[trn_idx,:])\n",
    "    \n",
    "    pipe_name ='%s_%s_CV_fold_%i_of_%i_pipe.pkl'%(df_config['hash_id'][train_id],\n",
    "                                                       df_config['cv_alg'][train_id],\n",
    "                                                       ifold, n_folds)\n",
    "    \n",
    "    with open(os.path.join(pipe_path,pipe_name),'wb') as file_handler:\n",
    "        joblib.dump(pipe, file_handler)\n"
   ]
  }
 ],
 "metadata": {
  "kernelspec": {
   "display_name": "Python 3 (ipykernel)",
   "language": "python",
   "name": "python3"
  },
  "language_info": {
   "codemirror_mode": {
    "name": "ipython",
    "version": 3
   },
   "file_extension": ".py",
   "mimetype": "text/x-python",
   "name": "python",
   "nbconvert_exporter": "python",
   "pygments_lexer": "ipython3",
   "version": "3.8.10"
  }
 },
 "nbformat": 4,
 "nbformat_minor": 5
}
